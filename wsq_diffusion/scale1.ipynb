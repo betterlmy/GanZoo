{
 "cells": [
  {
   "cell_type": "code",
   "execution_count": 10,
   "metadata": {},
   "outputs": [],
   "source": [
    "from skimage.metrics import structural_similarity as compare_ssim\n",
    "from skimage.metrics import peak_signal_noise_ratio as compare_psnr\n",
    "from PIL import Image\n",
    "import numpy as np\n",
    "import os\n",
    "import torch"
   ]
  },
  {
   "cell_type": "code",
   "execution_count": 11,
   "metadata": {},
   "outputs": [],
   "source": [
    "def calc_ssim(img1_path, img2_path):\n",
    "    '''\n",
    "    Parameters\n",
    "    ----------\n",
    "    img1_path : str\n",
    "        图像1的路径.\n",
    "    img2_path : str\n",
    "        图像2的路径.\n",
    "\n",
    "    Returns\n",
    "    -------\n",
    "    ssim_score : numpy.float64\n",
    "        结构相似性指数（structural similarity index，SSIM）.\n",
    "        \n",
    "    References\n",
    "    -------\n",
    "    https://scikit-image.org/docs/dev/auto_examples/transform/plot_ssim.html\n",
    "\n",
    "    '''\n",
    "    img1 = Image.open(img1_path).convert('L')\n",
    "    img2 = Image.open(img2_path).convert('L')\n",
    "    img1 = img1.resize(img2.size)\n",
    "    img1, img2 = np.array(img1), np.array(img2)\n",
    "    # 此处因为转换为灰度值之后的图像范围是0-255，所以data_range为255，如果转化为浮点数，且是0-1的范围，则data_range应为1\n",
    "    ssim_score = compare_ssim(img1, img2, data_range=255)\n",
    "    return ssim_score\n"
   ]
  },
  {
   "cell_type": "code",
   "execution_count": 12,
   "metadata": {},
   "outputs": [],
   "source": [
    "def calc_psnr(img1_path, img2_path):\n",
    "    '''\n",
    "    Parameters\n",
    "    ----------\n",
    "    img1_path : str\n",
    "        图像1的路径.\n",
    "    img2_path : str\n",
    "        图像2的路径.\n",
    "\n",
    "    Returns\n",
    "    -------\n",
    "    psnr_score : numpy.float64\n",
    "        峰值信噪比(Peak Signal to Noise Ratio, PSNR).\n",
    "        \n",
    "    References\n",
    "    -------\n",
    "    https://en.wikipedia.org/wiki/Peak_signal-to-noise_ratio\n",
    "\n",
    "    '''\n",
    "    img1 = Image.open(img1_path).convert(\"RGB\")\n",
    "    #img1 = Image.open(img1_path)\n",
    "    img2 = Image.open(img2_path).convert(\"RGB\")\n",
    "    img1 = img1.resize(img2.size)\n",
    "    img1, img2 = np.array(img1), np.array(img2)\n",
    "    # 此处的第一张图片为真实图像，第二张图片为测试图片\n",
    "    # 此处因为图像范围是0-255，所以data_range为255，如果转化为浮点数，且是0-1的范围，则data_range应为1\n",
    "    psnr_score = compare_psnr(img1, img2, data_range=255)\n",
    "    return psnr_score"
   ]
  },
  {
   "cell_type": "code",
   "execution_count": 13,
   "metadata": {},
   "outputs": [],
   "source": [
    "def compute_MSE(img1, img2):\n",
    "    img1 = np.array(Image.open(img1).convert(\"RGB\"))\n",
    "    img2 = np.array(Image.open(img2).convert(\"RGB\"))\n",
    "    return ((img1 - img2) ** 2).mean()\n",
    "\n",
    "\n",
    "def compute_RMSE(img1, img2):\n",
    "    if type(img1) == torch.Tensor:\n",
    "        return torch.sqrt(compute_MSE(img1, img2)).item()\n",
    "    else:\n",
    "        return np.sqrt(compute_MSE(img1, img2))"
   ]
  },
  {
   "cell_type": "code",
   "execution_count": 14,
   "metadata": {},
   "outputs": [
    {
     "name": "stdout",
     "output_type": "stream",
     "text": [
      "avg:psnr32.42458393219545,ssim0.8570582352602739,rmse5.637302395357042\n"
     ]
    }
   ],
   "source": [
    "n = 560\n",
    "a = 0\n",
    "b = 0\n",
    "c= 0\n",
    "rootdir1 = \"../datasets/256/full/L067\"\n",
    "list1 =  sorted(os.listdir(rootdir1))[:n]\n",
    "for i in range(len(list1)):\n",
    "    list1[i] = rootdir1+\"/\"+str(list1[i])\n",
    "    \n",
    "rootdir2 = \"guide_scale/0.1\"\n",
    "list2 =  sorted(os.listdir(rootdir2))[:n]\n",
    "for i in range(len(list2)):\n",
    "    list2[i] = rootdir2+\"/\"+str(list2[i])\n",
    "psnr1=psnr2=psnr3=ssim1=ssim2=ssim3 = 0\n",
    "for i in range(len(list1)):\n",
    "\n",
    "    psnrc = calc_psnr(list1[i],list2[i])  #加创新点前，重建结果与LDCT对应的PSNR\n",
    "    a = a + psnrc\n",
    "\n",
    "    ssimc =calc_ssim(list1[i],list2[i])  #加创新点前，重建结果与LDCT对应的SSIM\n",
    "    b = b + ssimc\n",
    "\n",
    "    rms = compute_RMSE(list1[i],list2[i])\n",
    "    c = c + rms\n",
    "    #print(\"SSIM为：{}，PSNR为：{}\".format(ssimc,psnrc))\n",
    "print(\"avg:psnr{},ssim{},rmse{}\".format(a/n,b/n,c/n))"
   ]
  },
  {
   "cell_type": "code",
   "execution_count": 15,
   "metadata": {},
   "outputs": [
    {
     "name": "stdout",
     "output_type": "stream",
     "text": [
      "avg:psnr35.04036444733216,ssim0.9134445139226393,rmse4.41741053470443\n"
     ]
    }
   ],
   "source": [
    "n = 560\n",
    "a = 0\n",
    "b = 0\n",
    "c= 0\n",
    "rootdir1 = \"../datasets/256/full/L067\"\n",
    "list1 =  sorted(os.listdir(rootdir1))[:n]\n",
    "for i in range(len(list1)):\n",
    "    list1[i] = rootdir1+\"/\"+str(list1[i])\n",
    "    \n",
    "rootdir2 = \"guide_scale/0.0\"\n",
    "list2 =  sorted(os.listdir(rootdir2))[:n]\n",
    "for i in range(len(list2)):\n",
    "    list2[i] = rootdir2+\"/\"+str(list2[i])\n",
    "psnr1=psnr2=psnr3=ssim1=ssim2=ssim3 = 0\n",
    "for i in range(len(list1)):\n",
    "\n",
    "    psnrc = calc_psnr(list1[i],list2[i])  #加创新点前，重建结果与LDCT对应的PSNR\n",
    "    a = a + psnrc\n",
    "\n",
    "    ssimc =calc_ssim(list1[i],list2[i])  #加创新点前，重建结果与LDCT对应的SSIM\n",
    "    b = b + ssimc\n",
    "\n",
    "    rms = compute_RMSE(list1[i],list2[i])\n",
    "    c = c + rms\n",
    "    #print(\"SSIM为：{}，PSNR为：{}\".format(ssimc,psnrc))\n",
    "print(\"avg:psnr{},ssim{},rmse{}\".format(a/n,b/n,c/n))"
   ]
  },
  {
   "cell_type": "code",
   "execution_count": 16,
   "metadata": {},
   "outputs": [
    {
     "name": "stdout",
     "output_type": "stream",
     "text": [
      "avg:psnr35.255800342596444,ssim0.9172750797947933,rmse4.345564427854346\n"
     ]
    }
   ],
   "source": [
    "n = 560\n",
    "a = 0\n",
    "b = 0\n",
    "c= 0\n",
    "rootdir1 = \"../datasets/256/full/L067\"\n",
    "list1 =  sorted(os.listdir(rootdir1))[:n]\n",
    "for i in range(len(list1)):\n",
    "    list1[i] = rootdir1+\"/\"+str(list1[i])\n",
    "    \n",
    "rootdir2 = \"guide_scale/-0.05\"\n",
    "list2 =  sorted(os.listdir(rootdir2))[:n]\n",
    "for i in range(len(list2)):\n",
    "    list2[i] = rootdir2+\"/\"+str(list2[i])\n",
    "psnr1=psnr2=psnr3=ssim1=ssim2=ssim3 = 0\n",
    "for i in range(len(list1)):\n",
    "\n",
    "    psnrc = calc_psnr(list1[i],list2[i])  #加创新点前，重建结果与LDCT对应的PSNR\n",
    "    a = a + psnrc\n",
    "\n",
    "    ssimc =calc_ssim(list1[i],list2[i])  #加创新点前，重建结果与LDCT对应的SSIM\n",
    "    b = b + ssimc\n",
    "\n",
    "    rms = compute_RMSE(list1[i],list2[i])\n",
    "    c = c + rms\n",
    "    #print(\"SSIM为：{}，PSNR为：{}\".format(ssimc,psnrc))\n",
    "print(\"avg:psnr{},ssim{},rmse{}\".format(a/n,b/n,c/n))"
   ]
  },
  {
   "cell_type": "code",
   "execution_count": 17,
   "metadata": {},
   "outputs": [
    {
     "name": "stdout",
     "output_type": "stream",
     "text": [
      "avg:psnr35.374927207305184,ssim0.9194541646525807,rmse4.312574353823881\n"
     ]
    }
   ],
   "source": [
    "n = 560\n",
    "a = 0\n",
    "b = 0\n",
    "c= 0\n",
    "rootdir1 = \"../datasets/256/full/L067\"\n",
    "list1 =  sorted(os.listdir(rootdir1))[:n]\n",
    "for i in range(len(list1)):\n",
    "    list1[i] = rootdir1+\"/\"+str(list1[i])\n",
    "    \n",
    "rootdir2 = \"guide_scale/-0.15\"\n",
    "list2 =  sorted(os.listdir(rootdir2))[:n]\n",
    "for i in range(len(list2)):\n",
    "    list2[i] = rootdir2+\"/\"+str(list2[i])\n",
    "psnr1=psnr2=psnr3=ssim1=ssim2=ssim3 = 0\n",
    "for i in range(len(list1)):\n",
    "\n",
    "    psnrc = calc_psnr(list1[i],list2[i])  #加创新点前，重建结果与LDCT对应的PSNR\n",
    "    a = a + psnrc\n",
    "\n",
    "    ssimc =calc_ssim(list1[i],list2[i])  #加创新点前，重建结果与LDCT对应的SSIM\n",
    "    b = b + ssimc\n",
    "\n",
    "    rms = compute_RMSE(list1[i],list2[i])\n",
    "    c = c + rms\n",
    "    #print(\"SSIM为：{}，PSNR为：{}\".format(ssimc,psnrc))\n",
    "print(\"avg:psnr{},ssim{},rmse{}\".format(a/n,b/n,c/n))"
   ]
  },
  {
   "cell_type": "code",
   "execution_count": 18,
   "metadata": {},
   "outputs": [
    {
     "name": "stdout",
     "output_type": "stream",
     "text": [
      "avg:psnr35.36112937496623,ssim0.9189675703798564,rmse4.308080045112458\n"
     ]
    }
   ],
   "source": [
    "n = 560\n",
    "a = 0\n",
    "b = 0\n",
    "c= 0\n",
    "rootdir1 = \"../datasets/256/full/L067\"\n",
    "list1 =  sorted(os.listdir(rootdir1))[:n]\n",
    "for i in range(len(list1)):\n",
    "    list1[i] = rootdir1+\"/\"+str(list1[i])\n",
    "    \n",
    "rootdir2 = \"guide_scale/-0.1\"\n",
    "list2 =  sorted(os.listdir(rootdir2))[:n]\n",
    "for i in range(len(list2)):\n",
    "    list2[i] = rootdir2+\"/\"+str(list2[i])\n",
    "psnr1=psnr2=psnr3=ssim1=ssim2=ssim3 = 0\n",
    "for i in range(len(list1)):\n",
    "\n",
    "    psnrc = calc_psnr(list1[i],list2[i])  #加创新点前，重建结果与LDCT对应的PSNR\n",
    "    a = a + psnrc\n",
    "\n",
    "    ssimc =calc_ssim(list1[i],list2[i])  #加创新点前，重建结果与LDCT对应的SSIM\n",
    "    b = b + ssimc\n",
    "\n",
    "    rms = compute_RMSE(list1[i],list2[i])\n",
    "    c = c + rms\n",
    "    #print(\"SSIM为：{}，PSNR为：{}\".format(ssimc,psnrc))\n",
    "print(\"avg:psnr{},ssim{},rmse{}\".format(a/n,b/n,c/n))"
   ]
  },
  {
   "cell_type": "code",
   "execution_count": 20,
   "metadata": {},
   "outputs": [
    {
     "name": "stdout",
     "output_type": "stream",
     "text": [
      "avg:psnr35.409715975607114,ssim0.9194702147713851,rmse4.308203540267846\n"
     ]
    }
   ],
   "source": [
    "n = 560\n",
    "a = 0\n",
    "b = 0\n",
    "c= 0\n",
    "rootdir1 = \"../datasets/256/full/L067\"\n",
    "list1 =  sorted(os.listdir(rootdir1))[:n]\n",
    "for i in range(len(list1)):\n",
    "    list1[i] = rootdir1+\"/\"+str(list1[i])\n",
    "    \n",
    "rootdir2 = \"guide_scale/-0.2\"\n",
    "list2 =  sorted(os.listdir(rootdir2))[:n]\n",
    "for i in range(len(list2)):\n",
    "    list2[i] = rootdir2+\"/\"+str(list2[i])\n",
    "psnr1=psnr2=psnr3=ssim1=ssim2=ssim3 = 0\n",
    "for i in range(len(list1)):\n",
    "\n",
    "    psnrc = calc_psnr(list1[i],list2[i])  #加创新点前，重建结果与LDCT对应的PSNR\n",
    "    a = a + psnrc\n",
    "\n",
    "    ssimc =calc_ssim(list1[i],list2[i])  #加创新点前，重建结果与LDCT对应的SSIM\n",
    "    b = b + ssimc\n",
    "\n",
    "    rms = compute_RMSE(list1[i],list2[i])\n",
    "    c = c + rms\n",
    "    #print(\"SSIM为：{}，PSNR为：{}\".format(ssimc,psnrc))\n",
    "print(\"avg:psnr{},ssim{},rmse{}\".format(a/n,b/n,c/n))"
   ]
  },
  {
   "cell_type": "code",
   "execution_count": null,
   "metadata": {},
   "outputs": [],
   "source": [
    "n = 560\n",
    "a = 0\n",
    "b = 0\n",
    "c= 0\n",
    "rootdir1 = \"../datasets/256/full/L067\"\n",
    "list1 =  sorted(os.listdir(rootdir1))[:n]\n",
    "for i in range(len(list1)):\n",
    "    list1[i] = rootdir1+\"/\"+str(list1[i])\n",
    "    \n",
    "rootdir2 = \"guide_scale/-0.2\"\n",
    "list2 =  sorted(os.listdir(rootdir2))[:n]\n",
    "for i in range(len(list2)):\n",
    "    list2[i] = rootdir2+\"/\"+str(list2[i])\n",
    "psnr1=psnr2=psnr3=ssim1=ssim2=ssim3 = 0\n",
    "for i in range(len(list1)):\n",
    "\n",
    "    psnrc = calc_psnr(list1[i],list2[i])  #加创新点前，重建结果与LDCT对应的PSNR\n",
    "    a = a + psnrc\n",
    "\n",
    "    ssimc =calc_ssim(list1[i],list2[i])  #加创新点前，重建结果与LDCT对应的SSIM\n",
    "    b = b + ssimc\n",
    "\n",
    "    rms = compute_RMSE(list1[i],list2[i])\n",
    "    c = c + rms\n",
    "    #print(\"SSIM为：{}，PSNR为：{}\".format(ssimc,psnrc))\n",
    "print(\"avg:psnr{},ssim{},rmse{}\".format(a/n,b/n,c/n))"
   ]
  },
  {
   "cell_type": "code",
   "execution_count": 22,
   "metadata": {},
   "outputs": [
    {
     "name": "stdout",
     "output_type": "stream",
     "text": [
      "avg:psnr34.896825090649784,ssim0.9086098076841673,rmse4.542792051268749\n"
     ]
    }
   ],
   "source": [
    "n = 560\n",
    "a = 0\n",
    "b = 0\n",
    "c= 0\n",
    "rootdir1 = \"../datasets/256/full/L067\"\n",
    "list1 =  sorted(os.listdir(rootdir1))[:n]\n",
    "for i in range(len(list1)):\n",
    "    list1[i] = rootdir1+\"/\"+str(list1[i])\n",
    "    \n",
    "rootdir2 = \"guide_scale/-0.5\"\n",
    "list2 =  sorted(os.listdir(rootdir2))[:n]\n",
    "for i in range(len(list2)):\n",
    "    list2[i] = rootdir2+\"/\"+str(list2[i])\n",
    "psnr1=psnr2=psnr3=ssim1=ssim2=ssim3 = 0\n",
    "for i in range(len(list1)):\n",
    "\n",
    "    psnrc = calc_psnr(list1[i],list2[i])  #加创新点前，重建结果与LDCT对应的PSNR\n",
    "    a = a + psnrc\n",
    "\n",
    "    ssimc =calc_ssim(list1[i],list2[i])  #加创新点前，重建结果与LDCT对应的SSIM\n",
    "    b = b + ssimc\n",
    "\n",
    "    rms = compute_RMSE(list1[i],list2[i])\n",
    "    c = c + rms\n",
    "    #print(\"SSIM为：{}，PSNR为：{}\".format(ssimc,psnrc))\n",
    "print(\"avg:psnr{},ssim{},rmse{}\".format(a/n,b/n,c/n))"
   ]
  },
  {
   "cell_type": "code",
   "execution_count": 27,
   "metadata": {},
   "outputs": [
    {
     "name": "stdout",
     "output_type": "stream",
     "text": [
      "avg:psnr35.160150602801686,ssim0.913921839483206,rmse4.427574498848671\n"
     ]
    }
   ],
   "source": [
    "n = 560\n",
    "a = 0\n",
    "b = 0\n",
    "c= 0\n",
    "rootdir1 = \"../datasets/256/full/L067\"\n",
    "list1 =  sorted(os.listdir(rootdir1))[:n]\n",
    "for i in range(len(list1)):\n",
    "    list1[i] = rootdir1+\"/\"+str(list1[i])\n",
    "    \n",
    "rootdir2 = \"guide_scale/-0.4\"\n",
    "list2 =  sorted(os.listdir(rootdir2))[:n]\n",
    "for i in range(len(list2)):\n",
    "    list2[i] = rootdir2+\"/\"+str(list2[i])\n",
    "psnr1=psnr2=psnr3=ssim1=ssim2=ssim3 = 0\n",
    "for i in range(len(list1)):\n",
    "\n",
    "    psnrc = calc_psnr(list1[i],list2[i])  #加创新点前，重建结果与LDCT对应的PSNR\n",
    "    a = a + psnrc\n",
    "\n",
    "    ssimc =calc_ssim(list1[i],list2[i])  #加创新点前，重建结果与LDCT对应的SSIM\n",
    "    b = b + ssimc\n",
    "\n",
    "    rms = compute_RMSE(list1[i],list2[i])\n",
    "    c = c + rms\n",
    "    #print(\"SSIM为：{}，PSNR为：{}\".format(ssimc,psnrc))\n",
    "print(\"avg:psnr{},ssim{},rmse{}\".format(a/n,b/n,c/n))"
   ]
  },
  {
   "cell_type": "code",
   "execution_count": 23,
   "metadata": {},
   "outputs": [
    {
     "name": "stdout",
     "output_type": "stream",
     "text": [
      "avg:psnr30.32143055059613,ssim0.8028161675915242,rmse6.619929763425362\n"
     ]
    }
   ],
   "source": [
    "n = 560\n",
    "a = 0\n",
    "b = 0\n",
    "c= 0\n",
    "rootdir1 = \"../datasets/256/full/L067\"\n",
    "list1 =  sorted(os.listdir(rootdir1))[:n]\n",
    "for i in range(len(list1)):\n",
    "    list1[i] = rootdir1+\"/\"+str(list1[i])\n",
    "    \n",
    "rootdir2 = \"guide_scale/-1.5\"\n",
    "list2 =  sorted(os.listdir(rootdir2))[:n]\n",
    "for i in range(len(list2)):\n",
    "    list2[i] = rootdir2+\"/\"+str(list2[i])\n",
    "psnr1=psnr2=psnr3=ssim1=ssim2=ssim3 = 0\n",
    "for i in range(len(list1)):\n",
    "\n",
    "    psnrc = calc_psnr(list1[i],list2[i])  #加创新点前，重建结果与LDCT对应的PSNR\n",
    "    a = a + psnrc\n",
    "\n",
    "    ssimc =calc_ssim(list1[i],list2[i])  #加创新点前，重建结果与LDCT对应的SSIM\n",
    "    b = b + ssimc\n",
    "\n",
    "    rms = compute_RMSE(list1[i],list2[i])\n",
    "    c = c + rms\n",
    "    #print(\"SSIM为：{}，PSNR为：{}\".format(ssimc,psnrc))\n",
    "print(\"avg:psnr{},ssim{},rmse{}\".format(a/n,b/n,c/n))"
   ]
  },
  {
   "cell_type": "code",
   "execution_count": 25,
   "metadata": {},
   "outputs": [
    {
     "name": "stdout",
     "output_type": "stream",
     "text": [
      "avg:psnr31.19725073651544,ssim0.8281204993750153,rmse6.259211928797317\n"
     ]
    }
   ],
   "source": [
    "n = 560\n",
    "a = 0\n",
    "b = 0\n",
    "c= 0\n",
    "rootdir1 = \"../datasets/256/full/L067\"\n",
    "list1 =  sorted(os.listdir(rootdir1))[:n]\n",
    "for i in range(len(list1)):\n",
    "    list1[i] = rootdir1+\"/\"+str(list1[i])\n",
    "    \n",
    "rootdir2 = \"guide_scale/-1.3\"\n",
    "list2 =  sorted(os.listdir(rootdir2))[:n]\n",
    "for i in range(len(list2)):\n",
    "    list2[i] = rootdir2+\"/\"+str(list2[i])\n",
    "psnr1=psnr2=psnr3=ssim1=ssim2=ssim3 = 0\n",
    "for i in range(len(list1)):\n",
    "\n",
    "    psnrc = calc_psnr(list1[i],list2[i])  #加创新点前，重建结果与LDCT对应的PSNR\n",
    "    a = a + psnrc\n",
    "\n",
    "    ssimc =calc_ssim(list1[i],list2[i])  #加创新点前，重建结果与LDCT对应的SSIM\n",
    "    b = b + ssimc\n",
    "\n",
    "    rms = compute_RMSE(list1[i],list2[i])\n",
    "    c = c + rms\n",
    "    #print(\"SSIM为：{}，PSNR为：{}\".format(ssimc,psnrc))\n",
    "print(\"avg:psnr{},ssim{},rmse{}\".format(a/n,b/n,c/n))"
   ]
  },
  {
   "cell_type": "code",
   "execution_count": null,
   "metadata": {},
   "outputs": [],
   "source": []
  }
 ],
 "metadata": {
  "kernelspec": {
   "display_name": "d2l-zh",
   "language": "python",
   "name": "python3"
  },
  "language_info": {
   "codemirror_mode": {
    "name": "ipython",
    "version": 3
   },
   "file_extension": ".py",
   "mimetype": "text/x-python",
   "name": "python",
   "nbconvert_exporter": "python",
   "pygments_lexer": "ipython3",
   "version": "3.10.13"
  }
 },
 "nbformat": 4,
 "nbformat_minor": 2
}
