{
 "cells": [
  {
   "cell_type": "code",
   "execution_count": 1,
   "metadata": {},
   "outputs": [],
   "source": [
    "from skimage.metrics import structural_similarity as compare_ssim\n",
    "from skimage.metrics import peak_signal_noise_ratio as compare_psnr\n",
    "from PIL import Image\n",
    "import numpy as np\n",
    "import os\n",
    "import torch"
   ]
  },
  {
   "cell_type": "code",
   "execution_count": 2,
   "metadata": {},
   "outputs": [],
   "source": [
    "def calc_ssim(img1_path, img2_path):\n",
    "    '''\n",
    "    Parameters\n",
    "    ----------\n",
    "    img1_path : str\n",
    "        图像1的路径.\n",
    "    img2_path : str\n",
    "        图像2的路径.\n",
    "\n",
    "    Returns\n",
    "    -------\n",
    "    ssim_score : numpy.float64\n",
    "        结构相似性指数（structural similarity index，SSIM）.\n",
    "        \n",
    "    References\n",
    "    -------\n",
    "    https://scikit-image.org/docs/dev/auto_examples/transform/plot_ssim.html\n",
    "\n",
    "    '''\n",
    "    img1 = Image.open(img1_path).convert('L')\n",
    "    img2 = Image.open(img2_path).convert('L')\n",
    "    img1 = img1.resize(img2.size)\n",
    "    img1, img2 = np.array(img1), np.array(img2)\n",
    "    # 此处因为转换为灰度值之后的图像范围是0-255，所以data_range为255，如果转化为浮点数，且是0-1的范围，则data_range应为1\n",
    "    ssim_score = compare_ssim(img1, img2, data_range=255)\n",
    "    return ssim_score\n"
   ]
  },
  {
   "cell_type": "code",
   "execution_count": 3,
   "metadata": {},
   "outputs": [],
   "source": [
    "def calc_psnr(img1_path, img2_path):\n",
    "    '''\n",
    "    Parameters\n",
    "    ----------\n",
    "    img1_path : str\n",
    "        图像1的路径.\n",
    "    img2_path : str\n",
    "        图像2的路径.\n",
    "\n",
    "    Returns\n",
    "    -------\n",
    "    psnr_score : numpy.float64\n",
    "        峰值信噪比(Peak Signal to Noise Ratio, PSNR).\n",
    "        \n",
    "    References\n",
    "    -------\n",
    "    https://en.wikipedia.org/wiki/Peak_signal-to-noise_ratio\n",
    "\n",
    "    '''\n",
    "    img1 = Image.open(img1_path).convert(\"RGB\")\n",
    "    #img1 = Image.open(img1_path)\n",
    "    img2 = Image.open(img2_path).convert(\"RGB\")\n",
    "    img1 = img1.resize(img2.size)\n",
    "    img1, img2 = np.array(img1), np.array(img2)\n",
    "    # 此处的第一张图片为真实图像，第二张图片为测试图片\n",
    "    # 此处因为图像范围是0-255，所以data_range为255，如果转化为浮点数，且是0-1的范围，则data_range应为1\n",
    "    psnr_score = compare_psnr(img1, img2, data_range=255)\n",
    "    return psnr_score"
   ]
  },
  {
   "cell_type": "code",
   "execution_count": 4,
   "metadata": {},
   "outputs": [],
   "source": [
    "def compute_MSE(img1, img2):\n",
    "    img1 = np.array(Image.open(img1).convert(\"RGB\"))\n",
    "    img2 = np.array(Image.open(img2).convert(\"RGB\"))\n",
    "    return ((img1 - img2) ** 2).mean()\n",
    "\n",
    "\n",
    "def compute_RMSE(img1, img2):\n",
    "    if type(img1) == torch.Tensor:\n",
    "        return torch.sqrt(compute_MSE(img1, img2)).item()\n",
    "    else:\n",
    "        return np.sqrt(compute_MSE(img1, img2))"
   ]
  },
  {
   "cell_type": "code",
   "execution_count": 12,
   "metadata": {},
   "outputs": [
    {
     "name": "stdout",
     "output_type": "stream",
     "text": [
      "avg:psnr34.80446481422577,ssim0.913830242808213,rmse4.476127427565376\n"
     ]
    }
   ],
   "source": [
    "n = 560\n",
    "a = 0\n",
    "b = 0\n",
    "c= 0\n",
    "rootdir1 = \"../datasets/256/full/L067\"\n",
    "list1 =  sorted(os.listdir(rootdir1))[:n]\n",
    "for i in range(len(list1)):\n",
    "    list1[i] = rootdir1+\"/\"+str(list1[i])\n",
    "    \n",
    "rootdir2 = \"guide_scale_1/1.0/\"\n",
    "list2 =  sorted(os.listdir(rootdir2))[:n]\n",
    "for i in range(len(list2)):\n",
    "    list2[i] = rootdir2+\"/\"+str(list2[i])\n",
    "psnr1=psnr2=psnr3=ssim1=ssim2=ssim3 = 0\n",
    "for i in range(len(list1)):\n",
    "\n",
    "    psnrc = calc_psnr(list1[i],list2[i])  #加创新点前，重建结果与LDCT对应的PSNR\n",
    "    a = a + psnrc\n",
    "\n",
    "    ssimc =calc_ssim(list1[i],list2[i])  #加创新点前，重建结果与LDCT对应的SSIM\n",
    "    b = b + ssimc\n",
    "\n",
    "    rms = compute_RMSE(list1[i],list2[i])\n",
    "    c = c + rms\n",
    "    #print(\"SSIM为：{}，PSNR为：{}\".format(ssimc,psnrc))\n",
    "print(\"avg:psnr{},ssim{},rmse{}\".format(a/n,b/n,c/n))"
   ]
  },
  {
   "cell_type": "code",
   "execution_count": 13,
   "metadata": {},
   "outputs": [
    {
     "name": "stdout",
     "output_type": "stream",
     "text": [
      "avg:psnr16.327036299300065,ssim0.22883097004332872,rmse9.073789312747872\n"
     ]
    }
   ],
   "source": [
    "n = 560\n",
    "a = 0\n",
    "b = 0\n",
    "c= 0\n",
    "rootdir1 = \"../datasets/256/full/L067\"\n",
    "list1 =  sorted(os.listdir(rootdir1))[:n]\n",
    "for i in range(len(list1)):\n",
    "    list1[i] = rootdir1+\"/\"+str(list1[i])\n",
    "    \n",
    "rootdir2 = \"guide_scale_1/-1/\"\n",
    "list2 =  sorted(os.listdir(rootdir2))[:n]\n",
    "for i in range(len(list2)):\n",
    "    list2[i] = rootdir2+\"/\"+str(list2[i])\n",
    "psnr1=psnr2=psnr3=ssim1=ssim2=ssim3 = 0\n",
    "for i in range(len(list1)):\n",
    "\n",
    "    psnrc = calc_psnr(list1[i],list2[i])  #加创新点前，重建结果与LDCT对应的PSNR\n",
    "    a = a + psnrc\n",
    "\n",
    "    ssimc =calc_ssim(list1[i],list2[i])  #加创新点前，重建结果与LDCT对应的SSIM\n",
    "    b = b + ssimc\n",
    "\n",
    "    rms = compute_RMSE(list1[i],list2[i])\n",
    "    c = c + rms\n",
    "    #print(\"SSIM为：{}，PSNR为：{}\".format(ssimc,psnrc))\n",
    "print(\"avg:psnr{},ssim{},rmse{}\".format(a/n,b/n,c/n))"
   ]
  },
  {
   "cell_type": "code",
   "execution_count": 14,
   "metadata": {},
   "outputs": [
    {
     "name": "stdout",
     "output_type": "stream",
     "text": [
      "avg:psnr29.605566555552578,ssim0.737331620696531,rmse6.164032967105902\n"
     ]
    }
   ],
   "source": [
    "n = 560\n",
    "a = 0\n",
    "b = 0\n",
    "c= 0\n",
    "rootdir1 = \"../datasets/256/full/L067\"\n",
    "list1 =  sorted(os.listdir(rootdir1))[:n]\n",
    "for i in range(len(list1)):\n",
    "    list1[i] = rootdir1+\"/\"+str(list1[i])\n",
    "    \n",
    "rootdir2 = \"guide_scale_1/0.0//\"\n",
    "list2 =  sorted(os.listdir(rootdir2))[:n]\n",
    "for i in range(len(list2)):\n",
    "    list2[i] = rootdir2+\"/\"+str(list2[i])\n",
    "psnr1=psnr2=psnr3=ssim1=ssim2=ssim3 = 0\n",
    "for i in range(len(list1)):\n",
    "\n",
    "    psnrc = calc_psnr(list1[i],list2[i])  #加创新点前，重建结果与LDCT对应的PSNR\n",
    "    a = a + psnrc\n",
    "\n",
    "    ssimc =calc_ssim(list1[i],list2[i])  #加创新点前，重建结果与LDCT对应的SSIM\n",
    "    b = b + ssimc\n",
    "\n",
    "    rms = compute_RMSE(list1[i],list2[i])\n",
    "    c = c + rms\n",
    "    #print(\"SSIM为：{}，PSNR为：{}\".format(ssimc,psnrc))\n",
    "print(\"avg:psnr{},ssim{},rmse{}\".format(a/n,b/n,c/n))"
   ]
  },
  {
   "cell_type": "code",
   "execution_count": 15,
   "metadata": {},
   "outputs": [
    {
     "name": "stdout",
     "output_type": "stream",
     "text": [
      "avg:psnr35.363576579546205,ssim0.9163914694056954,rmse4.340040159550295\n"
     ]
    }
   ],
   "source": [
    "n = 560\n",
    "a = 0\n",
    "b = 0\n",
    "c= 0\n",
    "rootdir1 = \"../datasets/256/full/L067\"\n",
    "list1 =  sorted(os.listdir(rootdir1))[:n]\n",
    "for i in range(len(list1)):\n",
    "    list1[i] = rootdir1+\"/\"+str(list1[i])\n",
    "    \n",
    "rootdir2 = \"guide_scale_1/1.75/\"\n",
    "list2 =  sorted(os.listdir(rootdir2))[:n]\n",
    "for i in range(len(list2)):\n",
    "    list2[i] = rootdir2+\"/\"+str(list2[i])\n",
    "psnr1=psnr2=psnr3=ssim1=ssim2=ssim3 = 0\n",
    "for i in range(len(list1)):\n",
    "\n",
    "    psnrc = calc_psnr(list1[i],list2[i])  #加创新点前，重建结果与LDCT对应的PSNR\n",
    "    a = a + psnrc\n",
    "\n",
    "    ssimc =calc_ssim(list1[i],list2[i])  #加创新点前，重建结果与LDCT对应的SSIM\n",
    "    b = b + ssimc\n",
    "\n",
    "    rms = compute_RMSE(list1[i],list2[i])\n",
    "    c = c + rms\n",
    "    #print(\"SSIM为：{}，PSNR为：{}\".format(ssimc,psnrc))\n",
    "print(\"avg:psnr{},ssim{},rmse{}\".format(a/n,b/n,c/n))"
   ]
  },
  {
   "cell_type": "code",
   "execution_count": 16,
   "metadata": {},
   "outputs": [
    {
     "name": "stdout",
     "output_type": "stream",
     "text": [
      "avg:psnr35.058948415761684,ssim0.8970459186701927,rmse4.477270707126795\n"
     ]
    }
   ],
   "source": [
    "n = 560\n",
    "a = 0\n",
    "b = 0\n",
    "c= 0\n",
    "rootdir1 = \"../datasets/256/full/L067\"\n",
    "list1 =  sorted(os.listdir(rootdir1))[:n]\n",
    "for i in range(len(list1)):\n",
    "    list1[i] = rootdir1+\"/\"+str(list1[i])\n",
    "    \n",
    "rootdir2 = \"guide_scale_1/3.0//\"\n",
    "list2 =  sorted(os.listdir(rootdir2))[:n]\n",
    "for i in range(len(list2)):\n",
    "    list2[i] = rootdir2+\"/\"+str(list2[i])\n",
    "psnr1=psnr2=psnr3=ssim1=ssim2=ssim3 = 0\n",
    "for i in range(len(list1)):\n",
    "\n",
    "    psnrc = calc_psnr(list1[i],list2[i])  #加创新点前，重建结果与LDCT对应的PSNR\n",
    "    a = a + psnrc\n",
    "\n",
    "    ssimc =calc_ssim(list1[i],list2[i])  #加创新点前，重建结果与LDCT对应的SSIM\n",
    "    b = b + ssimc\n",
    "\n",
    "    rms = compute_RMSE(list1[i],list2[i])\n",
    "    c = c + rms\n",
    "    #print(\"SSIM为：{}，PSNR为：{}\".format(ssimc,psnrc))\n",
    "print(\"avg:psnr{},ssim{},rmse{}\".format(a/n,b/n,c/n))"
   ]
  },
  {
   "cell_type": "code",
   "execution_count": 17,
   "metadata": {},
   "outputs": [
    {
     "name": "stdout",
     "output_type": "stream",
     "text": [
      "avg:psnr35.30382563933148,ssim0.9181394395451538,rmse4.354875294139095\n"
     ]
    }
   ],
   "source": [
    "n = 560\n",
    "a = 0\n",
    "b = 0\n",
    "c= 0\n",
    "rootdir1 = \"../datasets/256/full/L067\"\n",
    "list1 =  sorted(os.listdir(rootdir1))[:n]\n",
    "for i in range(len(list1)):\n",
    "    list1[i] = rootdir1+\"/\"+str(list1[i])\n",
    "    \n",
    "rootdir2 = \"guide_scale_1/1.5/\"\n",
    "list2 =  sorted(os.listdir(rootdir2))[:n]\n",
    "for i in range(len(list2)):\n",
    "    list2[i] = rootdir2+\"/\"+str(list2[i])\n",
    "psnr1=psnr2=psnr3=ssim1=ssim2=ssim3 = 0\n",
    "for i in range(len(list1)):\n",
    "\n",
    "    psnrc = calc_psnr(list1[i],list2[i])  #加创新点前，重建结果与LDCT对应的PSNR\n",
    "    a = a + psnrc\n",
    "\n",
    "    ssimc =calc_ssim(list1[i],list2[i])  #加创新点前，重建结果与LDCT对应的SSIM\n",
    "    b = b + ssimc\n",
    "\n",
    "    rms = compute_RMSE(list1[i],list2[i])\n",
    "    c = c + rms\n",
    "    #print(\"SSIM为：{}，PSNR为：{}\".format(ssimc,psnrc))\n",
    "print(\"avg:psnr{},ssim{},rmse{}\".format(a/n,b/n,c/n))"
   ]
  },
  {
   "cell_type": "code",
   "execution_count": 5,
   "metadata": {},
   "outputs": [
    {
     "name": "stdout",
     "output_type": "stream",
     "text": [
      "avg:psnr35.45130161138016,ssim0.9136967251031181,rmse4.313078873972889\n"
     ]
    }
   ],
   "source": [
    "n = 560\n",
    "a = 0\n",
    "b = 0\n",
    "c= 0\n",
    "rootdir1 = \"../datasets/256/full/L067\"\n",
    "list1 =  sorted(os.listdir(rootdir1))[:n]\n",
    "for i in range(len(list1)):\n",
    "    list1[i] = rootdir1+\"/\"+str(list1[i])\n",
    "    \n",
    "rootdir2 = \"guide_scale_1/2.0/\"\n",
    "list2 =  sorted(os.listdir(rootdir2))[:n]\n",
    "for i in range(len(list2)):\n",
    "    list2[i] = rootdir2+\"/\"+str(list2[i])\n",
    "psnr1=psnr2=psnr3=ssim1=ssim2=ssim3 = 0\n",
    "for i in range(len(list1)):\n",
    "\n",
    "    psnrc = calc_psnr(list1[i],list2[i])  #加创新点前，重建结果与LDCT对应的PSNR\n",
    "    a = a + psnrc\n",
    "\n",
    "    ssimc =calc_ssim(list1[i],list2[i])  #加创新点前，重建结果与LDCT对应的SSIM\n",
    "    b = b + ssimc\n",
    "\n",
    "    rms = compute_RMSE(list1[i],list2[i])\n",
    "    c = c + rms\n",
    "    #print(\"SSIM为：{}，PSNR为：{}\".format(ssimc,psnrc))\n",
    "print(\"avg:psnr{},ssim{},rmse{}\".format(a/n,b/n,c/n))"
   ]
  },
  {
   "cell_type": "code",
   "execution_count": null,
   "metadata": {},
   "outputs": [],
   "source": []
  }
 ],
 "metadata": {
  "kernelspec": {
   "display_name": "d2l-zh",
   "language": "python",
   "name": "python3"
  },
  "language_info": {
   "codemirror_mode": {
    "name": "ipython",
    "version": 3
   },
   "file_extension": ".py",
   "mimetype": "text/x-python",
   "name": "python",
   "nbconvert_exporter": "python",
   "pygments_lexer": "ipython3",
   "version": "3.10.13"
  }
 },
 "nbformat": 4,
 "nbformat_minor": 2
}
